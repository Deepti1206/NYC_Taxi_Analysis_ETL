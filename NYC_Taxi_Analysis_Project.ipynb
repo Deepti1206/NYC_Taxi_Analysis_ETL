{
 "cells": [
  {
   "cell_type": "code",
   "execution_count": 2,
   "id": "3332a46f-697a-4a8b-9446-fb0202d82286",
   "metadata": {},
   "outputs": [],
   "source": [
    "# NYC Taxi Analysis\n",
    "\n",
    "## Goal of the Project:\n",
    "\n",
    "### Analyze the peak times for taxi that will help drivers to maximize their income\n",
    "### Undertand didderent factors that influence taking taxis like weather conditions, seasons, etc.\n",
    "\n",
    "#### We will import total 3 files for our analysis for the year 2022\n",
    "\n",
    "### 1. NYC TLC Dataset\n",
    "### 2. Taxi Zone Dataset\n",
    "### 3. NYC Weather report "
   ]
  },
  {
   "cell_type": "code",
   "execution_count": 3,
   "id": "70cb1052-2d54-4edb-857b-5e430f9e1c4b",
   "metadata": {},
   "outputs": [],
   "source": [
    "from os.path import getsize\n",
    "from urllib.request import urlretrieve"
   ]
  },
  {
   "cell_type": "code",
   "execution_count": 4,
   "id": "db8d14c3-227e-4222-9ac5-5932a5b9bad6",
   "metadata": {},
   "outputs": [],
   "source": [
    "# Output directory\n",
    "output_dir = \"..r/Summer_2023/NYC_taxi_analysis\"\n",
    "\n",
    "## download 2018 yellow taxi trip data\n",
    "# fname = \"yellow_tripdata_2018\"\n",
    "\n",
    "## change range(x, y) to be the months you want\n",
    "# for m in list([1, 2, 7, 8]):\n",
    "#     month = str(m).zfill(2)\n",
    "#     out = f'{fname}-{month}.csv'\n",
    "#     temp = f'{\"yellow_2018\"}_{month}.csv'\n",
    "#     url = f\"https://s3.amazonaws.com/nyc-tlc/trip+data/{out}\"\n",
    "#     urlretrieve(url, f\"{output_dir}/{temp}\")\n",
    "\n",
    "#     print(f\"Done downloading {temp} to {output_dir} with size {getsize(f'{output_dir}/{temp}') / 1073741824:.2f}GB\")"
   ]
  },
  {
   "cell_type": "code",
   "execution_count": 5,
   "id": "fb8224c0-e534-48f0-a511-50d10dc5f39d",
   "metadata": {},
   "outputs": [],
   "source": [
    "# I have downloaded the file directly from the website\n"
   ]
  },
  {
   "cell_type": "code",
   "execution_count": 6,
   "id": "c728e829-dbe8-4c21-b0ce-932836a5a2ac",
   "metadata": {},
   "outputs": [],
   "source": [
    "# Importing libraries\n",
    "\n",
    "import pandas as pd\n",
    "import numpy as np\n",
    "from pandas.tseries.holiday import USFederalHolidayCalendar as calender\n",
    "import warnings\n",
    "\n",
    "warnings.filterwarnings(\"ignore\")\n",
    "\n",
    "import matplotlib.pyplot as plt\n",
    "import seaborn as sns\n"
   ]
  },
  {
   "cell_type": "code",
   "execution_count": 7,
   "id": "c173a37d-1583-4493-a52c-b6296f3e0663",
   "metadata": {},
   "outputs": [
    {
     "name": "stdout",
     "output_type": "stream",
     "text": [
      "Requirement already satisfied: pyarrow in /Library/Frameworks/Python.framework/Versions/3.9/lib/python3.9/site-packages (12.0.1)\n",
      "Requirement already satisfied: numpy>=1.16.6 in /Library/Frameworks/Python.framework/Versions/3.9/lib/python3.9/site-packages (from pyarrow) (1.20.3)\n",
      "\u001b[33mWARNING: You are using pip version 21.1.1; however, version 23.2.1 is available.\n",
      "You should consider upgrading via the '/Library/Frameworks/Python.framework/Versions/3.9/bin/python3.9 -m pip install --upgrade pip' command.\u001b[0m\n"
     ]
    }
   ],
   "source": [
    "!pip3 install pyarrow"
   ]
  },
  {
   "cell_type": "code",
   "execution_count": 8,
   "id": "1df63fbd-8dba-4b11-9276-88c1e16500cd",
   "metadata": {},
   "outputs": [
    {
     "name": "stdout",
     "output_type": "stream",
     "text": [
      "   VendorID tpep_pickup_datetime tpep_dropoff_datetime  passenger_count  \\\n",
      "0         1  2022-01-01 00:35:40   2022-01-01 00:53:29              2.0   \n",
      "1         1  2022-01-01 00:33:43   2022-01-01 00:42:07              1.0   \n",
      "2         2  2022-01-01 00:53:21   2022-01-01 01:02:19              1.0   \n",
      "3         2  2022-01-01 00:25:21   2022-01-01 00:35:23              1.0   \n",
      "4         2  2022-01-01 00:36:48   2022-01-01 01:14:20              1.0   \n",
      "\n",
      "   trip_distance  RatecodeID store_and_fwd_flag  PULocationID  DOLocationID  \\\n",
      "0           3.80         1.0                  N           142           236   \n",
      "1           2.10         1.0                  N           236            42   \n",
      "2           0.97         1.0                  N           166           166   \n",
      "3           1.09         1.0                  N           114            68   \n",
      "4           4.30         1.0                  N            68           163   \n",
      "\n",
      "   payment_type  fare_amount  extra  mta_tax  tip_amount  tolls_amount  \\\n",
      "0             1         14.5    3.0      0.5        3.65           0.0   \n",
      "1             1          8.0    0.5      0.5        4.00           0.0   \n",
      "2             1          7.5    0.5      0.5        1.76           0.0   \n",
      "3             2          8.0    0.5      0.5        0.00           0.0   \n",
      "4             1         23.5    0.5      0.5        3.00           0.0   \n",
      "\n",
      "   improvement_surcharge  total_amount  congestion_surcharge  airport_fee  \n",
      "0                    0.3         21.95                   2.5          0.0  \n",
      "1                    0.3         13.30                   0.0          0.0  \n",
      "2                    0.3         10.56                   0.0          0.0  \n",
      "3                    0.3         11.80                   2.5          0.0  \n",
      "4                    0.3         30.30                   2.5          0.0  \n"
     ]
    }
   ],
   "source": [
    "# Importing Data\n",
    "\n",
    "file_path_01 = '.../Summer_2023/NYC_taxi_analysis/raw_data/yellow_tripdata_2022-01.parquet'\n",
    "file_path_02 = '.../NYC_taxi_analysis/raw_data/yellow_tripdata_2022-02.parquet'\n",
    "file_path_07 = '.../Summer_2023/NYC_taxi_analysis/raw_data/yellow_tripdata_2022-07.parquet'\n",
    "file_path_08 = '.../Summer_2023/NYC_taxi_analysis/raw_data/yellow_tripdata_2022-08.parquet'\n",
    "\n",
    "yellow_01 = pd.read_parquet(file_path_01)\n",
    "yellow_02 = pd.read_parquet(file_path_02)\n",
    "yellow_07 = pd.read_parquet(file_path_07)\n",
    "yellow_08 = pd.read_parquet(file_path_08)\n"
   ]
  },
  {
   "cell_type": "code",
   "execution_count": null,
   "id": "8bdeaf18-384d-4bc5-ae3c-cfedcfb70e0c",
   "metadata": {},
   "outputs": [],
   "source": [
    "print(yellow_02.head())"
   ]
  },
  {
   "cell_type": "code",
   "execution_count": null,
   "id": "3383f3f0-6d29-494e-af6b-99be2f8a5325",
   "metadata": {},
   "outputs": [],
   "source": [
    "print(yellow_07.head())"
   ]
  },
  {
   "cell_type": "code",
   "execution_count": null,
   "id": "c33c40a4-7758-430c-a35c-f9c13bab26ea",
   "metadata": {},
   "outputs": [],
   "source": [
    "print(yellow_08.head())"
   ]
  },
  {
   "cell_type": "code",
   "execution_count": 12,
   "id": "94d3c0d4-91a1-42c3-a9a2-d812788eb768",
   "metadata": {},
   "outputs": [
    {
     "data": {
      "text/plain": [
       "(2463931, 19)"
      ]
     },
     "execution_count": 12,
     "metadata": {},
     "output_type": "execute_result"
    }
   ],
   "source": [
    "yellow_01.shape"
   ]
  },
  {
   "cell_type": "code",
   "execution_count": 13,
   "id": "e4188090-5281-4e46-b422-51f80c9b1e99",
   "metadata": {},
   "outputs": [],
   "source": [
    "## Combining the monthly data as a Season (winter and summer)\n",
    "\n",
    "winter = pd.concat([yellow_01, yellow_02]).reset_index(drop=True)\n",
    "summer = pd.concat([yellow_07, yellow_08]).reset_index(drop=True)\n",
    "\n",
    "## labeling dataset as winter and summer\n",
    "\n",
    "winter['season'] = 'winter'\n",
    "summer['season'] = 'summer'\n",
    "\n",
    "# remove any invalid date\n",
    "\n",
    "winter = winter[(winter['tpep_pickup_datetime'] >= '2022-01-01 00:00:00') \n",
    "    & (winter['tpep_pickup_datetime'] <= '2022-02-28 23:59:59') \n",
    "    & (winter['tpep_dropoff_datetime'] >= '2022-01-01 00:00:00') \n",
    "    & (winter['tpep_dropoff_datetime'] <= '2022-02-28 23:59:59')]\n",
    "summer = summer[(summer['tpep_pickup_datetime'] >= '2022-07-01 00:00:00') \n",
    "    & (summer['tpep_pickup_datetime'] <= '2022-08-31 23:59:59') \n",
    "    & (summer['tpep_dropoff_datetime'] >= '2022-07-01 00:00:00') \n",
    "    & (summer['tpep_dropoff_datetime'] <= '2022-08-31 23:59:59')]\n",
    "\n",
    "# Merging \n",
    "data = pd.concat([winter, summer]).reset_index(drop=True)"
   ]
  },
  {
   "cell_type": "code",
   "execution_count": 14,
   "id": "b9be4f32-4dbd-476d-8411-e7bfe8821592",
   "metadata": {},
   "outputs": [
    {
     "data": {
      "text/plain": [
       "(5442763, 20)"
      ]
     },
     "execution_count": 14,
     "metadata": {},
     "output_type": "execute_result"
    }
   ],
   "source": [
    "winter.shape"
   ]
  },
  {
   "cell_type": "code",
   "execution_count": 15,
   "id": "c94e61fc-bff2-4bd7-ae2d-7b7c0caa281f",
   "metadata": {},
   "outputs": [
    {
     "data": {
      "text/plain": [
       "(6326013, 20)"
      ]
     },
     "execution_count": 15,
     "metadata": {},
     "output_type": "execute_result"
    }
   ],
   "source": [
    "summer.shape"
   ]
  },
  {
   "cell_type": "code",
   "execution_count": 16,
   "id": "58c303d1-9dbb-427e-b5dc-5a651870c6f3",
   "metadata": {},
   "outputs": [
    {
     "data": {
      "text/plain": [
       "(11768776, 20)"
      ]
     },
     "execution_count": 16,
     "metadata": {},
     "output_type": "execute_result"
    }
   ],
   "source": [
    "data.shape # 11M * 20 "
   ]
  },
  {
   "cell_type": "code",
   "execution_count": null,
   "id": "fd3dd31c-23ee-4de3-84e4-361768cefa22",
   "metadata": {},
   "outputs": [],
   "source": [
    "data.head(n=5)"
   ]
  },
  {
   "cell_type": "code",
   "execution_count": 18,
   "id": "a929f121-eeef-4d5d-84a5-8c8c9dd1753a",
   "metadata": {},
   "outputs": [],
   "source": [
    "###### Feature Engineering #######"
   ]
  },
  {
   "cell_type": "code",
   "execution_count": 19,
   "id": "d44f4807-c3c0-4b95-b033-ae9340f93926",
   "metadata": {},
   "outputs": [],
   "source": [
    "## 1. Calculate duration of the trip and holidays\n",
    "\n",
    "# We will calculate the duration of the trips. In order to calculate the duration we will first extract \n",
    "# day and time and then subtract drop off time from pickup time"
   ]
  },
  {
   "cell_type": "code",
   "execution_count": 20,
   "id": "41450ee7-ca01-4571-92be-cbcf10cb3663",
   "metadata": {},
   "outputs": [],
   "source": [
    "data['tpep_pickup_datetime'] = pd.to_datetime(data['tpep_pickup_datetime'])\n",
    "data['tpep_dropoff_datetime'] = pd.to_datetime(data['tpep_dropoff_datetime'])"
   ]
  },
  {
   "cell_type": "code",
   "execution_count": 21,
   "id": "43178bd3-84c4-42c0-92dd-09ce107eae2a",
   "metadata": {},
   "outputs": [],
   "source": [
    "# Normalize function will normalize times to midnight yielding only date in 'date' column\n",
    "\n",
    "data['date'] = data['tpep_pickup_datetime'].dt.normalize()\n",
    "data['time'] = data['tpep_pickup_datetime'].dt.hour            # extracts hour component from datetime\n",
    "data['weekday'] = data['date'].dt.day_name()                   # extracts weekday from datetime\n",
    "data['duration'] = data['tpep_dropoff_datetime'] - data['tpep_pickup_datetime'] # Duration = dropoff - pickup\n",
    "data['duration'] = data['duration'] / np.timedelta64(1, 'm')   # converting duration to minutes"
   ]
  },
  {
   "cell_type": "code",
   "execution_count": null,
   "id": "63b8de54-a757-4a30-9d86-2988fceada59",
   "metadata": {},
   "outputs": [],
   "source": [
    "data.head(n=5)"
   ]
  },
  {
   "cell_type": "code",
   "execution_count": 23,
   "id": "84900d05-bddd-4a10-8f11-70a26b971be3",
   "metadata": {},
   "outputs": [],
   "source": [
    "# Since our one of the goals in the analysis is to look the peak times in workdays and holidays, we will\n",
    "# create new columns that will help in distinguishing them"
   ]
  },
  {
   "cell_type": "code",
   "execution_count": 24,
   "id": "36fe102e-0f6f-4625-b807-891502bb16ee",
   "metadata": {},
   "outputs": [],
   "source": [
    "# Identifying holidays, weekend and workdays\n",
    "\n",
    "cal = calender()\n",
    "holidays = cal.holidays(start='2022-01-01', end='2022-12-31') \n",
    "data['holiday'] = data['date'].isin(holidays)          # Creates a column holiday and mark holidays\n",
    "data['week'] = data['date'].dt.dayofweek               # Numbers the week starting 0-Mon to 6-Sun\n",
    "data.loc[data['week'] >= 5, 'day_type'] = \"weekend\"     \n",
    "data.loc[data['week'] < 5, 'day_type'] = \"workday\"\n",
    "data.loc[data['holiday'] == True, 'day_type'] = \"holiday\" # Creates a Column for day_type as weekday, holiday\n",
    "data = data.drop(['holiday', 'week'], axis=1)             # drops the column holiday & week"
   ]
  },
  {
   "cell_type": "code",
   "execution_count": 25,
   "id": "4eac53dd-7cc5-4e47-b453-a8213ba32411",
   "metadata": {},
   "outputs": [
    {
     "data": {
      "text/html": [
       "<div>\n",
       "<style scoped>\n",
       "    .dataframe tbody tr th:only-of-type {\n",
       "        vertical-align: middle;\n",
       "    }\n",
       "\n",
       "    .dataframe tbody tr th {\n",
       "        vertical-align: top;\n",
       "    }\n",
       "\n",
       "    .dataframe thead th {\n",
       "        text-align: right;\n",
       "    }\n",
       "</style>\n",
       "<table border=\"1\" class=\"dataframe\">\n",
       "  <thead>\n",
       "    <tr style=\"text-align: right;\">\n",
       "      <th></th>\n",
       "      <th>VendorID</th>\n",
       "      <th>tpep_pickup_datetime</th>\n",
       "      <th>tpep_dropoff_datetime</th>\n",
       "      <th>passenger_count</th>\n",
       "      <th>trip_distance</th>\n",
       "      <th>RatecodeID</th>\n",
       "      <th>store_and_fwd_flag</th>\n",
       "      <th>PULocationID</th>\n",
       "      <th>DOLocationID</th>\n",
       "      <th>payment_type</th>\n",
       "      <th>...</th>\n",
       "      <th>improvement_surcharge</th>\n",
       "      <th>total_amount</th>\n",
       "      <th>congestion_surcharge</th>\n",
       "      <th>airport_fee</th>\n",
       "      <th>season</th>\n",
       "      <th>date</th>\n",
       "      <th>time</th>\n",
       "      <th>weekday</th>\n",
       "      <th>duration</th>\n",
       "      <th>day_type</th>\n",
       "    </tr>\n",
       "  </thead>\n",
       "  <tbody>\n",
       "    <tr>\n",
       "      <th>0</th>\n",
       "      <td>1</td>\n",
       "      <td>2022-01-01 00:35:40</td>\n",
       "      <td>2022-01-01 00:53:29</td>\n",
       "      <td>2.0</td>\n",
       "      <td>3.8</td>\n",
       "      <td>1.0</td>\n",
       "      <td>N</td>\n",
       "      <td>142</td>\n",
       "      <td>236</td>\n",
       "      <td>1</td>\n",
       "      <td>...</td>\n",
       "      <td>0.3</td>\n",
       "      <td>21.95</td>\n",
       "      <td>2.5</td>\n",
       "      <td>0.0</td>\n",
       "      <td>winter</td>\n",
       "      <td>2022-01-01</td>\n",
       "      <td>0</td>\n",
       "      <td>Saturday</td>\n",
       "      <td>17.816667</td>\n",
       "      <td>weekend</td>\n",
       "    </tr>\n",
       "    <tr>\n",
       "      <th>1</th>\n",
       "      <td>1</td>\n",
       "      <td>2022-01-01 00:33:43</td>\n",
       "      <td>2022-01-01 00:42:07</td>\n",
       "      <td>1.0</td>\n",
       "      <td>2.1</td>\n",
       "      <td>1.0</td>\n",
       "      <td>N</td>\n",
       "      <td>236</td>\n",
       "      <td>42</td>\n",
       "      <td>1</td>\n",
       "      <td>...</td>\n",
       "      <td>0.3</td>\n",
       "      <td>13.30</td>\n",
       "      <td>0.0</td>\n",
       "      <td>0.0</td>\n",
       "      <td>winter</td>\n",
       "      <td>2022-01-01</td>\n",
       "      <td>0</td>\n",
       "      <td>Saturday</td>\n",
       "      <td>8.400000</td>\n",
       "      <td>weekend</td>\n",
       "    </tr>\n",
       "  </tbody>\n",
       "</table>\n",
       "<p>2 rows × 25 columns</p>\n",
       "</div>"
      ],
      "text/plain": [
       "   VendorID tpep_pickup_datetime tpep_dropoff_datetime  passenger_count  \\\n",
       "0         1  2022-01-01 00:35:40   2022-01-01 00:53:29              2.0   \n",
       "1         1  2022-01-01 00:33:43   2022-01-01 00:42:07              1.0   \n",
       "\n",
       "   trip_distance  RatecodeID store_and_fwd_flag  PULocationID  DOLocationID  \\\n",
       "0            3.8         1.0                  N           142           236   \n",
       "1            2.1         1.0                  N           236            42   \n",
       "\n",
       "   payment_type  ...  improvement_surcharge  total_amount  \\\n",
       "0             1  ...                    0.3         21.95   \n",
       "1             1  ...                    0.3         13.30   \n",
       "\n",
       "   congestion_surcharge  airport_fee  season       date  time   weekday  \\\n",
       "0                   2.5          0.0  winter 2022-01-01     0  Saturday   \n",
       "1                   0.0          0.0  winter 2022-01-01     0  Saturday   \n",
       "\n",
       "    duration day_type  \n",
       "0  17.816667  weekend  \n",
       "1   8.400000  weekend  \n",
       "\n",
       "[2 rows x 25 columns]"
      ]
     },
     "execution_count": 25,
     "metadata": {},
     "output_type": "execute_result"
    }
   ],
   "source": [
    "data.head(n=2)"
   ]
  },
  {
   "cell_type": "code",
   "execution_count": 26,
   "id": "a02b3d60-4cf3-46f9-a7d7-4358e29f121a",
   "metadata": {},
   "outputs": [],
   "source": [
    "# Calculating tip percentage using tip amount and total trip amount\n",
    "\n",
    "data['tip_percent'] = (data.tip_amount / data.total_amount) * 100   # avg tip 12%\n"
   ]
  },
  {
   "cell_type": "code",
   "execution_count": 27,
   "id": "92e2f3c8-133e-4f29-b62f-33739ad0dedf",
   "metadata": {},
   "outputs": [],
   "source": [
    "# Classifying trip's time slot in 4 categories: Morning, Afternoon, Evng & late night\n",
    "\n",
    "def time_slots(x):\n",
    "    if x in range(6,12):\n",
    "        return 'Morning'\n",
    "    elif x in range(12,17):\n",
    "        return 'Afternoon'\n",
    "    elif x in range(17,22):\n",
    "        return 'Evening'\n",
    "    else:\n",
    "        return 'Late Night'    # Note that in range syntax the start value is inclusive but stop value is exclusive\n",
    "\n",
    "data['time_desc'] = data['time'].apply(time_slots)"
   ]
  },
  {
   "cell_type": "code",
   "execution_count": 28,
   "id": "ed01c347-c937-4a24-a68f-1499b82629a7",
   "metadata": {},
   "outputs": [],
   "source": [
    "# Dropping features that are not useful for analysis\n",
    "\n",
    "data = data.drop(['store_and_fwd_flag', 'extra', 'mta_tax', 'improvement_surcharge'], axis=1)"
   ]
  },
  {
   "cell_type": "code",
   "execution_count": 29,
   "id": "4a88cf32-e400-4871-8350-ff6ab558debe",
   "metadata": {},
   "outputs": [
    {
     "data": {
      "text/plain": [
       "(11768776, 23)"
      ]
     },
     "execution_count": 29,
     "metadata": {},
     "output_type": "execute_result"
    }
   ],
   "source": [
    "data.shape"
   ]
  },
  {
   "cell_type": "code",
   "execution_count": 30,
   "id": "3033eea0-c7f7-408b-a939-57e8261f2b19",
   "metadata": {},
   "outputs": [
    {
     "data": {
      "text/html": [
       "<div>\n",
       "<style scoped>\n",
       "    .dataframe tbody tr th:only-of-type {\n",
       "        vertical-align: middle;\n",
       "    }\n",
       "\n",
       "    .dataframe tbody tr th {\n",
       "        vertical-align: top;\n",
       "    }\n",
       "\n",
       "    .dataframe thead th {\n",
       "        text-align: right;\n",
       "    }\n",
       "</style>\n",
       "<table border=\"1\" class=\"dataframe\">\n",
       "  <thead>\n",
       "    <tr style=\"text-align: right;\">\n",
       "      <th></th>\n",
       "      <th>passenger_count</th>\n",
       "      <th>trip_distance</th>\n",
       "      <th>fare_amount</th>\n",
       "      <th>tip_amount</th>\n",
       "      <th>tolls_amount</th>\n",
       "      <th>total_amount</th>\n",
       "      <th>duration</th>\n",
       "      <th>tip_percent</th>\n",
       "    </tr>\n",
       "  </thead>\n",
       "  <tbody>\n",
       "    <tr>\n",
       "      <th>count</th>\n",
       "      <td>1.139721e+07</td>\n",
       "      <td>1.176878e+07</td>\n",
       "      <td>1.176878e+07</td>\n",
       "      <td>1.176878e+07</td>\n",
       "      <td>1.176878e+07</td>\n",
       "      <td>1.176878e+07</td>\n",
       "      <td>1.176878e+07</td>\n",
       "      <td>1.176691e+07</td>\n",
       "    </tr>\n",
       "    <tr>\n",
       "      <th>mean</th>\n",
       "      <td>1.409888e+00</td>\n",
       "      <td>5.701670e+00</td>\n",
       "      <td>1.397175e+01</td>\n",
       "      <td>2.566680e+00</td>\n",
       "      <td>4.737850e-01</td>\n",
       "      <td>2.050042e+01</td>\n",
       "      <td>1.599391e+01</td>\n",
       "      <td>1.197565e+01</td>\n",
       "    </tr>\n",
       "    <tr>\n",
       "      <th>std</th>\n",
       "      <td>9.842613e-01</td>\n",
       "      <td>5.737118e+02</td>\n",
       "      <td>1.177014e+02</td>\n",
       "      <td>3.068295e+00</td>\n",
       "      <td>1.905936e+00</td>\n",
       "      <td>1.181146e+02</td>\n",
       "      <td>4.751305e+01</td>\n",
       "      <td>8.000101e+00</td>\n",
       "    </tr>\n",
       "    <tr>\n",
       "      <th>min</th>\n",
       "      <td>0.000000e+00</td>\n",
       "      <td>0.000000e+00</td>\n",
       "      <td>-9.000000e+02</td>\n",
       "      <td>-1.880000e+02</td>\n",
       "      <td>-9.999000e+01</td>\n",
       "      <td>-8.953000e+02</td>\n",
       "      <td>-3.442400e+03</td>\n",
       "      <td>-5.555556e+02</td>\n",
       "    </tr>\n",
       "    <tr>\n",
       "      <th>25%</th>\n",
       "      <td>1.000000e+00</td>\n",
       "      <td>1.100000e+00</td>\n",
       "      <td>7.000000e+00</td>\n",
       "      <td>5.000000e-02</td>\n",
       "      <td>0.000000e+00</td>\n",
       "      <td>1.180000e+01</td>\n",
       "      <td>6.983333e+00</td>\n",
       "      <td>2.557545e-01</td>\n",
       "    </tr>\n",
       "    <tr>\n",
       "      <th>50%</th>\n",
       "      <td>1.000000e+00</td>\n",
       "      <td>1.860000e+00</td>\n",
       "      <td>9.500000e+00</td>\n",
       "      <td>2.060000e+00</td>\n",
       "      <td>0.000000e+00</td>\n",
       "      <td>1.535000e+01</td>\n",
       "      <td>1.140000e+01</td>\n",
       "      <td>1.660777e+01</td>\n",
       "    </tr>\n",
       "    <tr>\n",
       "      <th>75%</th>\n",
       "      <td>1.000000e+00</td>\n",
       "      <td>3.430000e+00</td>\n",
       "      <td>1.550000e+01</td>\n",
       "      <td>3.160000e+00</td>\n",
       "      <td>0.000000e+00</td>\n",
       "      <td>2.180000e+01</td>\n",
       "      <td>1.823333e+01</td>\n",
       "      <td>1.666667e+01</td>\n",
       "    </tr>\n",
       "    <tr>\n",
       "      <th>max</th>\n",
       "      <td>9.000000e+00</td>\n",
       "      <td>3.487985e+05</td>\n",
       "      <td>4.010923e+05</td>\n",
       "      <td>8.888800e+02</td>\n",
       "      <td>5.630900e+02</td>\n",
       "      <td>4.010956e+05</td>\n",
       "      <td>8.513183e+03</td>\n",
       "      <td>1.000000e+02</td>\n",
       "    </tr>\n",
       "  </tbody>\n",
       "</table>\n",
       "</div>"
      ],
      "text/plain": [
       "       passenger_count  trip_distance   fare_amount    tip_amount  \\\n",
       "count     1.139721e+07   1.176878e+07  1.176878e+07  1.176878e+07   \n",
       "mean      1.409888e+00   5.701670e+00  1.397175e+01  2.566680e+00   \n",
       "std       9.842613e-01   5.737118e+02  1.177014e+02  3.068295e+00   \n",
       "min       0.000000e+00   0.000000e+00 -9.000000e+02 -1.880000e+02   \n",
       "25%       1.000000e+00   1.100000e+00  7.000000e+00  5.000000e-02   \n",
       "50%       1.000000e+00   1.860000e+00  9.500000e+00  2.060000e+00   \n",
       "75%       1.000000e+00   3.430000e+00  1.550000e+01  3.160000e+00   \n",
       "max       9.000000e+00   3.487985e+05  4.010923e+05  8.888800e+02   \n",
       "\n",
       "       tolls_amount  total_amount      duration   tip_percent  \n",
       "count  1.176878e+07  1.176878e+07  1.176878e+07  1.176691e+07  \n",
       "mean   4.737850e-01  2.050042e+01  1.599391e+01  1.197565e+01  \n",
       "std    1.905936e+00  1.181146e+02  4.751305e+01  8.000101e+00  \n",
       "min   -9.999000e+01 -8.953000e+02 -3.442400e+03 -5.555556e+02  \n",
       "25%    0.000000e+00  1.180000e+01  6.983333e+00  2.557545e-01  \n",
       "50%    0.000000e+00  1.535000e+01  1.140000e+01  1.660777e+01  \n",
       "75%    0.000000e+00  2.180000e+01  1.823333e+01  1.666667e+01  \n",
       "max    5.630900e+02  4.010956e+05  8.513183e+03  1.000000e+02  "
      ]
     },
     "execution_count": 30,
     "metadata": {},
     "output_type": "execute_result"
    }
   ],
   "source": [
    "# Description statistics for continuous variables\n",
    "data[['passenger_count', 'trip_distance', 'fare_amount', 'tip_amount', 'tolls_amount', 'total_amount', 'duration', 'tip_percent']].describe()"
   ]
  },
  {
   "cell_type": "code",
   "execution_count": 31,
   "id": "2b9b48ac-02b7-4a8d-baf4-3f0aca62f22f",
   "metadata": {},
   "outputs": [
    {
     "data": {
      "text/plain": [
       "<AxesSubplot:xlabel='trip_distance', ylabel='Density'>"
      ]
     },
     "execution_count": 31,
     "metadata": {},
     "output_type": "execute_result"
    },
    {
     "data": {
      "image/png": "[encoded data removed]",
      "text/plain": [
       "<Figure size 432x288 with 1 Axes>"
      ]
     },
     "metadata": {
      "needs_background": "light"
     },
     "output_type": "display_data"
    }
   ],
   "source": [
    "# Trip distance distribution\n",
    "sns.distplot(data[(data['trip_distance'] > 0) & (data['trip_distance'] <= 50)]['trip_distance'])"
   ]
  },
  {
   "cell_type": "code",
   "execution_count": 32,
   "id": "0ef79b7f-b582-46e2-abd4-6c10808aef9f",
   "metadata": {},
   "outputs": [
    {
     "data": {
      "text/plain": [
       "<AxesSubplot:xlabel='duration', ylabel='Density'>"
      ]
     },
     "execution_count": 32,
     "metadata": {},
     "output_type": "execute_result"
    },
    {
     "data": {
      "image/png": "[encoded data removed]",
      "text/plain": [
       "<Figure size 432x288 with 1 Axes>"
      ]
     },
     "metadata": {
      "needs_background": "light"
     },
     "output_type": "display_data"
    }
   ],
   "source": [
    "# Duration distribution\n",
    "sns.distplot(data[(data['duration'] > 0) & (data['duration'] < 120)]['duration'])\n"
   ]
  },
  {
   "cell_type": "code",
   "execution_count": 33,
   "id": "51b2a144-3cf2-471c-981c-7273e5056b35",
   "metadata": {},
   "outputs": [
    {
     "data": {
      "text/plain": [
       "<AxesSubplot:xlabel='fare_amount', ylabel='Density'>"
      ]
     },
     "execution_count": 33,
     "metadata": {},
     "output_type": "execute_result"
    },
    {
     "data": {
      "image/png": "[encoded data removed]",
      "text/plain": [
       "<Figure size 432x288 with 1 Axes>"
      ]
     },
     "metadata": {
      "needs_background": "light"
     },
     "output_type": "display_data"
    }
   ],
   "source": [
    "# Fare_amount distribution\n",
    "sns.distplot(data[(data['fare_amount'] >= 2.5)&(data['fare_amount'] <= 150)]['fare_amount'])"
   ]
  },
  {
   "cell_type": "code",
   "execution_count": 34,
   "id": "4500b0b4-ec9c-476d-9ecf-46546c02ff41",
   "metadata": {},
   "outputs": [
    {
     "data": {
      "text/plain": [
       "<AxesSubplot:xlabel='tip_amount', ylabel='Density'>"
      ]
     },
     "execution_count": 34,
     "metadata": {},
     "output_type": "execute_result"
    },
    {
     "data": {
      "image/png": "[encoded data removed]",
      "text/plain": [
       "<Figure size 432x288 with 1 Axes>"
      ]
     },
     "metadata": {
      "needs_background": "light"
     },
     "output_type": "display_data"
    }
   ],
   "source": [
    "# Tip amount distribution\n",
    "sns.distplot(data.tip_amount)"
   ]
  },
  {
   "cell_type": "code",
   "execution_count": 35,
   "id": "0c4cb808-ec7e-4052-8a8d-5216458204ba",
   "metadata": {},
   "outputs": [],
   "source": [
    "# remove invalid data\n",
    "# passenger == 0\n",
    "data = data[(data['passenger_count'] > 0) & (data['passenger_count'] < 7)]\n",
    "\n",
    "# trip_distance <= 0\n",
    "data = data[(data['trip_distance'] > 0) & (data['trip_distance'] <= 100)]\n",
    "\n",
    "# exclude duration longer than 180 mins\n",
    "data = data[(data['duration'] > 0) & (data['duration'] <= 180)]\n",
    "\n",
    "# payment method other than cash and credit card\n",
    "data = data[(data['payment_type'] != 3) & (data['payment_type'] != 4) & (data['payment_type'] != 5) & (data['payment_type'] != 6)]\n",
    "\n",
    "# exclude instances with fare amount less than 2.5\n",
    "data = data[(data['fare_amount'] >= 2.5) & (data['fare_amount'] <= 250)]\n",
    "\n",
    "# remove trips with tip precentage over 50%\n",
    "data = data[(data['tip_percent'] >= 0) & (data['tip_percent'] <= 50)]\n",
    "\n",
    "# PU and DO location id not within NYC taxi zone\n",
    "data = data[(data['PULocationID'] >= 1) & (data['PULocationID'] <= 263) & (data['DOLocationID'] >= 1) & (data['DOLocationID'] <= 263)]\n"
   ]
  },
  {
   "cell_type": "code",
   "execution_count": 36,
   "id": "662bdb88-76b7-4067-9c1d-8a3b43584c5c",
   "metadata": {},
   "outputs": [
    {
     "data": {
      "text/html": [
       "<div>\n",
       "<style scoped>\n",
       "    .dataframe tbody tr th:only-of-type {\n",
       "        vertical-align: middle;\n",
       "    }\n",
       "\n",
       "    .dataframe tbody tr th {\n",
       "        vertical-align: top;\n",
       "    }\n",
       "\n",
       "    .dataframe thead th {\n",
       "        text-align: right;\n",
       "    }\n",
       "</style>\n",
       "<table border=\"1\" class=\"dataframe\">\n",
       "  <thead>\n",
       "    <tr style=\"text-align: right;\">\n",
       "      <th></th>\n",
       "      <th>VendorID</th>\n",
       "      <th>tpep_pickup_datetime</th>\n",
       "      <th>tpep_dropoff_datetime</th>\n",
       "      <th>passenger_count</th>\n",
       "      <th>trip_distance</th>\n",
       "      <th>RatecodeID</th>\n",
       "      <th>PULocationID</th>\n",
       "      <th>DOLocationID</th>\n",
       "      <th>payment_type</th>\n",
       "      <th>fare_amount</th>\n",
       "      <th>...</th>\n",
       "      <th>congestion_surcharge</th>\n",
       "      <th>airport_fee</th>\n",
       "      <th>season</th>\n",
       "      <th>date</th>\n",
       "      <th>time</th>\n",
       "      <th>weekday</th>\n",
       "      <th>duration</th>\n",
       "      <th>day_type</th>\n",
       "      <th>tip_percent</th>\n",
       "      <th>time_desc</th>\n",
       "    </tr>\n",
       "  </thead>\n",
       "  <tbody>\n",
       "    <tr>\n",
       "      <th>0</th>\n",
       "      <td>1</td>\n",
       "      <td>2022-01-01 00:35:40</td>\n",
       "      <td>2022-01-01 00:53:29</td>\n",
       "      <td>2.0</td>\n",
       "      <td>3.80</td>\n",
       "      <td>1.0</td>\n",
       "      <td>142</td>\n",
       "      <td>236</td>\n",
       "      <td>1</td>\n",
       "      <td>14.5</td>\n",
       "      <td>...</td>\n",
       "      <td>2.5</td>\n",
       "      <td>0.0</td>\n",
       "      <td>winter</td>\n",
       "      <td>2022-01-01</td>\n",
       "      <td>0</td>\n",
       "      <td>Saturday</td>\n",
       "      <td>17.816667</td>\n",
       "      <td>weekend</td>\n",
       "      <td>16.628702</td>\n",
       "      <td>Late Night</td>\n",
       "    </tr>\n",
       "    <tr>\n",
       "      <th>1</th>\n",
       "      <td>1</td>\n",
       "      <td>2022-01-01 00:33:43</td>\n",
       "      <td>2022-01-01 00:42:07</td>\n",
       "      <td>1.0</td>\n",
       "      <td>2.10</td>\n",
       "      <td>1.0</td>\n",
       "      <td>236</td>\n",
       "      <td>42</td>\n",
       "      <td>1</td>\n",
       "      <td>8.0</td>\n",
       "      <td>...</td>\n",
       "      <td>0.0</td>\n",
       "      <td>0.0</td>\n",
       "      <td>winter</td>\n",
       "      <td>2022-01-01</td>\n",
       "      <td>0</td>\n",
       "      <td>Saturday</td>\n",
       "      <td>8.400000</td>\n",
       "      <td>weekend</td>\n",
       "      <td>30.075188</td>\n",
       "      <td>Late Night</td>\n",
       "    </tr>\n",
       "    <tr>\n",
       "      <th>2</th>\n",
       "      <td>2</td>\n",
       "      <td>2022-01-01 00:53:21</td>\n",
       "      <td>2022-01-01 01:02:19</td>\n",
       "      <td>1.0</td>\n",
       "      <td>0.97</td>\n",
       "      <td>1.0</td>\n",
       "      <td>166</td>\n",
       "      <td>166</td>\n",
       "      <td>1</td>\n",
       "      <td>7.5</td>\n",
       "      <td>...</td>\n",
       "      <td>0.0</td>\n",
       "      <td>0.0</td>\n",
       "      <td>winter</td>\n",
       "      <td>2022-01-01</td>\n",
       "      <td>0</td>\n",
       "      <td>Saturday</td>\n",
       "      <td>8.966667</td>\n",
       "      <td>weekend</td>\n",
       "      <td>16.666667</td>\n",
       "      <td>Late Night</td>\n",
       "    </tr>\n",
       "    <tr>\n",
       "      <th>3</th>\n",
       "      <td>2</td>\n",
       "      <td>2022-01-01 00:25:21</td>\n",
       "      <td>2022-01-01 00:35:23</td>\n",
       "      <td>1.0</td>\n",
       "      <td>1.09</td>\n",
       "      <td>1.0</td>\n",
       "      <td>114</td>\n",
       "      <td>68</td>\n",
       "      <td>2</td>\n",
       "      <td>8.0</td>\n",
       "      <td>...</td>\n",
       "      <td>2.5</td>\n",
       "      <td>0.0</td>\n",
       "      <td>winter</td>\n",
       "      <td>2022-01-01</td>\n",
       "      <td>0</td>\n",
       "      <td>Saturday</td>\n",
       "      <td>10.033333</td>\n",
       "      <td>weekend</td>\n",
       "      <td>0.000000</td>\n",
       "      <td>Late Night</td>\n",
       "    </tr>\n",
       "    <tr>\n",
       "      <th>4</th>\n",
       "      <td>2</td>\n",
       "      <td>2022-01-01 00:36:48</td>\n",
       "      <td>2022-01-01 01:14:20</td>\n",
       "      <td>1.0</td>\n",
       "      <td>4.30</td>\n",
       "      <td>1.0</td>\n",
       "      <td>68</td>\n",
       "      <td>163</td>\n",
       "      <td>1</td>\n",
       "      <td>23.5</td>\n",
       "      <td>...</td>\n",
       "      <td>2.5</td>\n",
       "      <td>0.0</td>\n",
       "      <td>winter</td>\n",
       "      <td>2022-01-01</td>\n",
       "      <td>0</td>\n",
       "      <td>Saturday</td>\n",
       "      <td>37.533333</td>\n",
       "      <td>weekend</td>\n",
       "      <td>9.900990</td>\n",
       "      <td>Late Night</td>\n",
       "    </tr>\n",
       "  </tbody>\n",
       "</table>\n",
       "<p>5 rows × 23 columns</p>\n",
       "</div>"
      ],
      "text/plain": [
       "   VendorID tpep_pickup_datetime tpep_dropoff_datetime  passenger_count  \\\n",
       "0         1  2022-01-01 00:35:40   2022-01-01 00:53:29              2.0   \n",
       "1         1  2022-01-01 00:33:43   2022-01-01 00:42:07              1.0   \n",
       "2         2  2022-01-01 00:53:21   2022-01-01 01:02:19              1.0   \n",
       "3         2  2022-01-01 00:25:21   2022-01-01 00:35:23              1.0   \n",
       "4         2  2022-01-01 00:36:48   2022-01-01 01:14:20              1.0   \n",
       "\n",
       "   trip_distance  RatecodeID  PULocationID  DOLocationID  payment_type  \\\n",
       "0           3.80         1.0           142           236             1   \n",
       "1           2.10         1.0           236            42             1   \n",
       "2           0.97         1.0           166           166             1   \n",
       "3           1.09         1.0           114            68             2   \n",
       "4           4.30         1.0            68           163             1   \n",
       "\n",
       "   fare_amount  ...  congestion_surcharge  airport_fee  season       date  \\\n",
       "0         14.5  ...                   2.5          0.0  winter 2022-01-01   \n",
       "1          8.0  ...                   0.0          0.0  winter 2022-01-01   \n",
       "2          7.5  ...                   0.0          0.0  winter 2022-01-01   \n",
       "3          8.0  ...                   2.5          0.0  winter 2022-01-01   \n",
       "4         23.5  ...                   2.5          0.0  winter 2022-01-01   \n",
       "\n",
       "   time   weekday   duration  day_type tip_percent   time_desc  \n",
       "0     0  Saturday  17.816667   weekend   16.628702  Late Night  \n",
       "1     0  Saturday   8.400000   weekend   30.075188  Late Night  \n",
       "2     0  Saturday   8.966667   weekend   16.666667  Late Night  \n",
       "3     0  Saturday  10.033333   weekend    0.000000  Late Night  \n",
       "4     0  Saturday  37.533333   weekend    9.900990  Late Night  \n",
       "\n",
       "[5 rows x 23 columns]"
      ]
     },
     "execution_count": 36,
     "metadata": {},
     "output_type": "execute_result"
    }
   ],
   "source": [
    "data.head()"
   ]
  },
  {
   "cell_type": "code",
   "execution_count": 37,
   "id": "95ae5076-2e96-40b8-9a93-8c8d8315f198",
   "metadata": {},
   "outputs": [],
   "source": [
    "# Convert passenger counts into 3 categories: small, medium, high\n",
    "\n",
    "def passenger_convert(y):\n",
    "    if (y>=1) & (y<=2):\n",
    "        val = \"small\"\n",
    "    elif (y>2) & (y<5):\n",
    "        val = \"medium\"\n",
    "    else:\n",
    "        val = \"high\"\n",
    "    return val\n",
    "\n",
    "data['passenger_count'] = data['passenger_count'].apply(passenger_convert)"
   ]
  },
  {
   "cell_type": "code",
   "execution_count": 38,
   "id": "8f0434c0-53d5-4b1e-99ad-c30e328e69f3",
   "metadata": {},
   "outputs": [
    {
     "data": {
      "text/plain": [
       "small     9718850\n",
       "medium     649967\n",
       "high       359149\n",
       "Name: passenger_count, dtype: int64"
      ]
     },
     "execution_count": 38,
     "metadata": {},
     "output_type": "execute_result"
    }
   ],
   "source": [
    "data['passenger_count'].value_counts()"
   ]
  },
  {
   "cell_type": "code",
   "execution_count": 44,
   "id": "ea3e5d93-a5dc-4c00-a316-53508e6c89e4",
   "metadata": {},
   "outputs": [],
   "source": [
    "### Preprocess external weather data\n",
    "\n",
    "# import tabula\n",
    "# pdf_file_path = '/Users/shirishpandagare/Documents/DiptiFolder/Summer_2023/NYC_taxi_analysis/raw_data/Weather-Jan-2022.pdf'\n",
    "\n",
    "# tabula.convert_into(pdf_file_path, 'output.csv', output_format='csv')\n"
   ]
  },
  {
   "cell_type": "code",
   "execution_count": null,
   "id": "b7467771-d9d9-43a0-8335-1acd53e01d99",
   "metadata": {},
   "outputs": [],
   "source": [
    "# Since the weather data of 2022 was available in PDF format on monthly basis, I have converted to excel \n",
    "# using online tools and will perform data merging and cleaning here"
   ]
  },
  {
   "cell_type": "code",
   "execution_count": null,
   "id": "7eae918d-e168-4eb5-99ef-25bb0e098a03",
   "metadata": {},
   "outputs": [],
   "source": []
  }
 ],
 "metadata": {
  "kernelspec": {
   "display_name": "Python 3",
   "language": "python",
   "name": "python3"
  },
  "language_info": {
   "codemirror_mode": {
    "name": "ipython",
    "version": 3
   },
   "file_extension": ".py",
   "mimetype": "text/x-python",
   "name": "python",
   "nbconvert_exporter": "python",
   "pygments_lexer": "ipython3",
   "version": "3.9.5"
  }
 },
 "nbformat": 4,
 "nbformat_minor": 5
}
